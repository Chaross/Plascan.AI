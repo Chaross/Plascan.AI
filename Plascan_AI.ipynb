{
  "cells": [
    {
      "cell_type": "markdown",
      "metadata": {
        "id": "view-in-github",
        "colab_type": "text"
      },
      "source": [
        "<a href=\"https://colab.research.google.com/github/Chaross/Plascan.AI/blob/main/Plascan_AI.ipynb\" target=\"_parent\"><img src=\"https://colab.research.google.com/assets/colab-badge.svg\" alt=\"Open In Colab\"/></a>"
      ]
    },
    {
      "cell_type": "markdown",
      "metadata": {
        "id": "IUNcnQD3hiuu"
      },
      "source": [
        "**Import dependencies**"
      ]
    },
    {
      "cell_type": "code",
      "execution_count": null,
      "metadata": {
        "id": "775Kh3O45Y9h"
      },
      "outputs": [],
      "source": [
        "import os\n",
        "import numpy as np\n",
        "import matplotlib.pyplot as plt\n",
        "import cv2\n",
        "from tqdm import tqdm\n",
        "from sklearn.model_selection import train_test_split\n",
        "from tensorflow.keras.utils import to_categorical\n",
        "from tensorflow.keras.models import Sequential\n",
        "from tensorflow.keras.layers import Conv2D, MaxPooling2D, Flatten, Dense, Dropout, BatchNormalization\n",
        "from tensorflow.keras.optimizers import Adam\n",
        "import tensorflow as tf\n",
        "from tensorflow.keras.models import load_model\n",
        "import matplotlib.pyplot as plt\n",
        "from tkinter import filedialog\n",
        "from tkinter import Tk"
      ]
    },
    {
      "cell_type": "markdown",
      "metadata": {
        "id": "mAXwGFYShykE"
      },
      "source": [
        "**Load Data**"
      ]
    },
    {
      "cell_type": "code",
      "execution_count": null,
      "metadata": {
        "colab": {
          "base_uri": "https://localhost:8080/"
        },
        "id": "LMyjckkjr27A",
        "outputId": "f6eecc13-f630-4224-a2fb-9517dbe331d0"
      },
      "outputs": [
        {
          "name": "stdout",
          "output_type": "stream",
          "text": [
            "Drive already mounted at /content/drive; to attempt to forcibly remount, call drive.mount(\"/content/drive\", force_remount=True).\n"
          ]
        }
      ],
      "source": [
        "from google.colab import drive\n",
        "drive.mount('/content/drive')\n",
        "\n",
        "data_dir = \"/content/drive/MyDrive/Colab Notebooks/Plascan AI/cell_images\"\n",
        "categories = [\"Parasitized\", \"Uninfected\"]"
      ]
    },
    {
      "cell_type": "markdown",
      "metadata": {
        "id": "UG0xdBMtj_XD"
      },
      "source": [
        "**Load Data**"
      ]
    },
    {
      "cell_type": "code",
      "execution_count": null,
      "metadata": {
        "colab": {
          "background_save": true,
          "base_uri": "https://localhost:8080/"
        },
        "id": "rArE-ieEr7N0",
        "outputId": "3356ea04-51c6-419c-ad6c-5c2d6936bc1b"
      },
      "outputs": [
        {
          "name": "stderr",
          "output_type": "stream",
          "text": [
            "Loading Parasitized: 100%|██████████| 13836/13836 [05:08<00:00, 44.87it/s] \n",
            "Loading Uninfected: 100%|██████████| 12003/12003 [10:56<00:00, 18.29it/s] \n"
          ]
        }
      ],
      "source": [
        "valid_extensions = ['.jpg', '.jpeg', '.png']\n",
        "data = []\n",
        "for category in categories:\n",
        "    path = os.path.join(data_dir, category)\n",
        "    label = categories.index(category)\n",
        "\n",
        "    for img_file in tqdm(os.listdir(path), desc=f\"Loading {category}\"):\n",
        "        # Ignore hidden files or non-images\n",
        "        if not any(img_file.lower().endswith(ext) for ext in valid_extensions):\n",
        "            continue\n",
        "\n",
        "        try:\n",
        "            img_path = os.path.join(path, img_file)\n",
        "            img = cv2.imread(img_path)\n",
        "            if img is None:\n",
        "                print(f\"Warning: Couldn't load {img_path}\")\n",
        "                continue\n",
        "            img = cv2.resize(img, (64, 64))\n",
        "            data.append([img, label])\n",
        "        except Exception as e:\n",
        "            print(f\"Error loading {img_path}: {e}\")"
      ]
    },
    {
      "cell_type": "markdown",
      "metadata": {
        "id": "2cGNU4avkZL3"
      },
      "source": [
        "Resize Images to 64x64"
      ]
    },
    {
      "cell_type": "code",
      "execution_count": null,
      "metadata": {
        "colab": {
          "background_save": true
        },
        "id": "iKk8ZN6fkNkl",
        "outputId": "fbd469d7-1b71-42bb-bcb9-b65b6b9b7c56"
      },
      "outputs": [
        {
          "name": "stderr",
          "output_type": "stream",
          "text": [
            "Loading Parasitized: 100%|██████████| 13836/13836 [03:32<00:00, 65.19it/s] \n",
            "Loading Uninfected: 100%|██████████| 12003/12003 [02:59<00:00, 66.88it/s] \n"
          ]
        }
      ],
      "source": [
        "img_size = 64  # Resize all images to 64x64\n",
        "data = []\n",
        "for category in categories:\n",
        "    path = os.path.join(data_dir, category)\n",
        "    label = categories.index(category)  # 0 or 1\n",
        "    for img_file in tqdm(os.listdir(path), desc=f\"Loading {category}\"):\n",
        "        try:\n",
        "            img_path = os.path.join(path, img_file)\n",
        "            img = cv2.imread(img_path)\n",
        "            img = cv2.resize(img, (img_size, img_size))\n",
        "            data.append([img, label])\n",
        "        except:\n",
        "            continue"
      ]
    },
    {
      "cell_type": "markdown",
      "metadata": {
        "id": "j5VfzY0Mlgne"
      },
      "source": [
        "**Shuffle and split the Data**"
      ]
    },
    {
      "cell_type": "code",
      "execution_count": null,
      "metadata": {
        "colab": {
          "background_save": true
        },
        "id": "bC7udPzykilb"
      },
      "outputs": [],
      "source": [
        "import random\n",
        "random.shuffle(data)\n",
        "\n",
        "X = []\n",
        "y = []\n",
        "\n",
        "for features, label in data:\n",
        "    X.append(features)\n",
        "    y.append(label)\n",
        "\n",
        "X = np.array(X) / 255.0  # Normalize pixel values to [0, 1]\n",
        "y = np.array(y)"
      ]
    },
    {
      "cell_type": "markdown",
      "metadata": {
        "id": "uiIYE7NHmGf5"
      },
      "source": [
        "**Split the Data to Training and Test Set**"
      ]
    },
    {
      "cell_type": "code",
      "execution_count": null,
      "metadata": {
        "colab": {
          "background_save": true
        },
        "id": "c3ePKUNTl8gH"
      },
      "outputs": [],
      "source": [
        "X_train, X_test, y_train, y_test = train_test_split(X, y, test_size=0.2, random_state=42)"
      ]
    },
    {
      "cell_type": "markdown",
      "metadata": {
        "id": "uA3VJqWCmTo4"
      },
      "source": [
        "**Build the CNN Model**"
      ]
    },
    {
      "cell_type": "code",
      "execution_count": null,
      "metadata": {
        "colab": {
          "background_save": true
        },
        "id": "aS1MUopJmMj2",
        "outputId": "6e3e29b4-69b9-4c01-f8db-b7a52d2fc651"
      },
      "outputs": [
        {
          "name": "stderr",
          "output_type": "stream",
          "text": [
            "/usr/local/lib/python3.11/dist-packages/keras/src/layers/convolutional/base_conv.py:107: UserWarning: Do not pass an `input_shape`/`input_dim` argument to a layer. When using Sequential models, prefer using an `Input(shape)` object as the first layer in the model instead.\n",
            "  super().__init__(activity_regularizer=activity_regularizer, **kwargs)\n"
          ]
        }
      ],
      "source": [
        "model = Sequential()\n",
        "\n",
        "# First Convolutional Block\n",
        "model.add(Conv2D(32, (3, 3), activation='relu', input_shape=(img_size, img_size, 3)))\n",
        "model.add(BatchNormalization())\n",
        "model.add(MaxPooling2D(pool_size=(2, 2)))\n",
        "\n",
        "# Second Convolutional Block\n",
        "model.add(Conv2D(64, (3, 3), activation='relu'))\n",
        "model.add(BatchNormalization())\n",
        "model.add(MaxPooling2D(pool_size=(2, 2)))\n",
        "\n",
        "# Third Convolutional Block\n",
        "model.add(Conv2D(128, (3, 3), activation='relu'))\n",
        "model.add(BatchNormalization())\n",
        "model.add(MaxPooling2D(pool_size=(2, 2)))\n",
        "\n",
        "# Fully Connected Layers\n",
        "model.add(Flatten())\n",
        "model.add(Dense(256, activation='relu'))\n",
        "model.add(Dropout(0.5))\n",
        "model.add(Dense(1, activation='sigmoid'))  # Binary classification"
      ]
    },
    {
      "cell_type": "markdown",
      "metadata": {
        "id": "syiWfD3mouFI"
      },
      "source": [
        "**Train the Model**"
      ]
    },
    {
      "cell_type": "code",
      "execution_count": null,
      "metadata": {
        "colab": {
          "background_save": true
        },
        "id": "pokJyn1kn9FV",
        "outputId": "413e6ca9-7455-418a-ca11-d9a776d45b39"
      },
      "outputs": [
        {
          "name": "stdout",
          "output_type": "stream",
          "text": [
            "Epoch 1/10\n",
            "\u001b[1m646/646\u001b[0m \u001b[32m━━━━━━━━━━━━━━━━━━━━\u001b[0m\u001b[37m\u001b[0m \u001b[1m245s\u001b[0m 367ms/step - accuracy: 0.8102 - loss: 0.5429 - val_accuracy: 0.8187 - val_loss: 0.4842\n",
            "Epoch 2/10\n",
            "\u001b[1m646/646\u001b[0m \u001b[32m━━━━━━━━━━━━━━━━━━━━\u001b[0m\u001b[37m\u001b[0m \u001b[1m259s\u001b[0m 364ms/step - accuracy: 0.9487 - loss: 0.1546 - val_accuracy: 0.9491 - val_loss: 0.1819\n",
            "Epoch 3/10\n",
            "\u001b[1m646/646\u001b[0m \u001b[32m━━━━━━━━━━━━━━━━━━━━\u001b[0m\u001b[37m\u001b[0m \u001b[1m223s\u001b[0m 345ms/step - accuracy: 0.9514 - loss: 0.1512 - val_accuracy: 0.9483 - val_loss: 0.1457\n",
            "Epoch 4/10\n",
            "\u001b[1m646/646\u001b[0m \u001b[32m━━━━━━━━━━━━━━━━━━━━\u001b[0m\u001b[37m\u001b[0m \u001b[1m228s\u001b[0m 353ms/step - accuracy: 0.9540 - loss: 0.1360 - val_accuracy: 0.6178 - val_loss: 0.5284\n",
            "Epoch 5/10\n",
            "\u001b[1m646/646\u001b[0m \u001b[32m━━━━━━━━━━━━━━━━━━━━\u001b[0m\u001b[37m\u001b[0m \u001b[1m267s\u001b[0m 361ms/step - accuracy: 0.9595 - loss: 0.1167 - val_accuracy: 0.9503 - val_loss: 0.1270\n",
            "Epoch 6/10\n",
            "\u001b[1m646/646\u001b[0m \u001b[32m━━━━━━━━━━━━━━━━━━━━\u001b[0m\u001b[37m\u001b[0m \u001b[1m230s\u001b[0m 355ms/step - accuracy: 0.9597 - loss: 0.1188 - val_accuracy: 0.9276 - val_loss: 0.2257\n",
            "Epoch 7/10\n",
            "\u001b[1m646/646\u001b[0m \u001b[32m━━━━━━━━━━━━━━━━━━━━\u001b[0m\u001b[37m\u001b[0m \u001b[1m260s\u001b[0m 353ms/step - accuracy: 0.9598 - loss: 0.1107 - val_accuracy: 0.9514 - val_loss: 0.1701\n",
            "Epoch 8/10\n",
            "\u001b[1m646/646\u001b[0m \u001b[32m━━━━━━━━━━━━━━━━━━━━\u001b[0m\u001b[37m\u001b[0m \u001b[1m255s\u001b[0m 342ms/step - accuracy: 0.9645 - loss: 0.1052 - val_accuracy: 0.9549 - val_loss: 0.1378\n",
            "Epoch 9/10\n",
            "\u001b[1m646/646\u001b[0m \u001b[32m━━━━━━━━━━━━━━━━━━━━\u001b[0m\u001b[37m\u001b[0m \u001b[1m260s\u001b[0m 339ms/step - accuracy: 0.9690 - loss: 0.0840 - val_accuracy: 0.9541 - val_loss: 0.1342\n",
            "Epoch 10/10\n",
            "\u001b[1m646/646\u001b[0m \u001b[32m━━━━━━━━━━━━━━━━━━━━\u001b[0m\u001b[37m\u001b[0m \u001b[1m217s\u001b[0m 336ms/step - accuracy: 0.9686 - loss: 0.0862 - val_accuracy: 0.9594 - val_loss: 0.1251\n"
          ]
        }
      ],
      "source": [
        "model.compile(\n",
        "    optimizer='adam',\n",
        "    loss='binary_crossentropy',  # or 'categorical_crossentropy' depending on your labels\n",
        "    metrics=['accuracy']\n",
        ")\n",
        "\n",
        "# Then train the model\n",
        "history = model.fit(\n",
        "    X_train, y_train,\n",
        "    epochs=10,\n",
        "    batch_size=32,\n",
        "    validation_data=(X_test, y_test)\n",
        ")"
      ]
    },
    {
      "cell_type": "markdown",
      "metadata": {
        "id": "u64xXnyppOHl"
      },
      "source": [
        "**Evaluate the Model**"
      ]
    },
    {
      "cell_type": "code",
      "execution_count": null,
      "metadata": {
        "colab": {
          "background_save": true
        },
        "id": "P3mxs0ono-yH",
        "outputId": "56e58016-90ca-4540-9a4d-8490dadd3c9d"
      },
      "outputs": [
        {
          "name": "stdout",
          "output_type": "stream",
          "text": [
            "\u001b[1m162/162\u001b[0m \u001b[32m━━━━━━━━━━━━━━━━━━━━\u001b[0m\u001b[37m\u001b[0m \u001b[1m12s\u001b[0m 77ms/step - accuracy: 0.9552 - loss: 0.1363\n",
            "Test Accuracy: 95.94%\n"
          ]
        }
      ],
      "source": [
        "loss, accuracy = model.evaluate(X_test, y_test)\n",
        "print(f\"Test Accuracy: {accuracy * 100:.2f}%\")"
      ]
    },
    {
      "cell_type": "markdown",
      "metadata": {
        "id": "2kjDjQUxpVWD"
      },
      "source": [
        "**Save the Model**"
      ]
    },
    {
      "cell_type": "code",
      "execution_count": null,
      "metadata": {
        "colab": {
          "background_save": true
        },
        "id": "dc4ADqOhpUq3"
      },
      "outputs": [],
      "source": [
        "model.save(\"plascanai.keras\")"
      ]
    },
    {
      "cell_type": "markdown",
      "metadata": {
        "id": "xR1HVCTSp7Rk"
      },
      "source": [
        "**Test on New Data**"
      ]
    },
    {
      "cell_type": "code",
      "execution_count": null,
      "metadata": {
        "colab": {
          "background_save": true
        },
        "id": "1lB9Gd2mp_tU",
        "outputId": "282b1394-1336-4636-c960-d4be3cdfeb86"
      },
      "outputs": [
        {
          "name": "stdout",
          "output_type": "stream",
          "text": [
            "162/162 - 10s - 64ms/step - accuracy: 0.9594 - loss: 0.1251\n",
            "Test loss: 0.1251, Test accuracy: 0.9594\n"
          ]
        },
        {
          "data": {
            "text/html": [
              "\n",
              "     <input type=\"file\" id=\"files-bb984ce1-662a-4f11-a7fd-f19ae596440f\" name=\"files[]\" multiple disabled\n",
              "        style=\"border:none\" />\n",
              "     <output id=\"result-bb984ce1-662a-4f11-a7fd-f19ae596440f\">\n",
              "      Upload widget is only available when the cell has been executed in the\n",
              "      current browser session. Please rerun this cell to enable.\n",
              "      </output>\n",
              "      <script>// Copyright 2017 Google LLC\n",
              "//\n",
              "// Licensed under the Apache License, Version 2.0 (the \"License\");\n",
              "// you may not use this file except in compliance with the License.\n",
              "// You may obtain a copy of the License at\n",
              "//\n",
              "//      http://www.apache.org/licenses/LICENSE-2.0\n",
              "//\n",
              "// Unless required by applicable law or agreed to in writing, software\n",
              "// distributed under the License is distributed on an \"AS IS\" BASIS,\n",
              "// WITHOUT WARRANTIES OR CONDITIONS OF ANY KIND, either express or implied.\n",
              "// See the License for the specific language governing permissions and\n",
              "// limitations under the License.\n",
              "\n",
              "/**\n",
              " * @fileoverview Helpers for google.colab Python module.\n",
              " */\n",
              "(function(scope) {\n",
              "function span(text, styleAttributes = {}) {\n",
              "  const element = document.createElement('span');\n",
              "  element.textContent = text;\n",
              "  for (const key of Object.keys(styleAttributes)) {\n",
              "    element.style[key] = styleAttributes[key];\n",
              "  }\n",
              "  return element;\n",
              "}\n",
              "\n",
              "// Max number of bytes which will be uploaded at a time.\n",
              "const MAX_PAYLOAD_SIZE = 100 * 1024;\n",
              "\n",
              "function _uploadFiles(inputId, outputId) {\n",
              "  const steps = uploadFilesStep(inputId, outputId);\n",
              "  const outputElement = document.getElementById(outputId);\n",
              "  // Cache steps on the outputElement to make it available for the next call\n",
              "  // to uploadFilesContinue from Python.\n",
              "  outputElement.steps = steps;\n",
              "\n",
              "  return _uploadFilesContinue(outputId);\n",
              "}\n",
              "\n",
              "// This is roughly an async generator (not supported in the browser yet),\n",
              "// where there are multiple asynchronous steps and the Python side is going\n",
              "// to poll for completion of each step.\n",
              "// This uses a Promise to block the python side on completion of each step,\n",
              "// then passes the result of the previous step as the input to the next step.\n",
              "function _uploadFilesContinue(outputId) {\n",
              "  const outputElement = document.getElementById(outputId);\n",
              "  const steps = outputElement.steps;\n",
              "\n",
              "  const next = steps.next(outputElement.lastPromiseValue);\n",
              "  return Promise.resolve(next.value.promise).then((value) => {\n",
              "    // Cache the last promise value to make it available to the next\n",
              "    // step of the generator.\n",
              "    outputElement.lastPromiseValue = value;\n",
              "    return next.value.response;\n",
              "  });\n",
              "}\n",
              "\n",
              "/**\n",
              " * Generator function which is called between each async step of the upload\n",
              " * process.\n",
              " * @param {string} inputId Element ID of the input file picker element.\n",
              " * @param {string} outputId Element ID of the output display.\n",
              " * @return {!Iterable<!Object>} Iterable of next steps.\n",
              " */\n",
              "function* uploadFilesStep(inputId, outputId) {\n",
              "  const inputElement = document.getElementById(inputId);\n",
              "  inputElement.disabled = false;\n",
              "\n",
              "  const outputElement = document.getElementById(outputId);\n",
              "  outputElement.innerHTML = '';\n",
              "\n",
              "  const pickedPromise = new Promise((resolve) => {\n",
              "    inputElement.addEventListener('change', (e) => {\n",
              "      resolve(e.target.files);\n",
              "    });\n",
              "  });\n",
              "\n",
              "  const cancel = document.createElement('button');\n",
              "  inputElement.parentElement.appendChild(cancel);\n",
              "  cancel.textContent = 'Cancel upload';\n",
              "  const cancelPromise = new Promise((resolve) => {\n",
              "    cancel.onclick = () => {\n",
              "      resolve(null);\n",
              "    };\n",
              "  });\n",
              "\n",
              "  // Wait for the user to pick the files.\n",
              "  const files = yield {\n",
              "    promise: Promise.race([pickedPromise, cancelPromise]),\n",
              "    response: {\n",
              "      action: 'starting',\n",
              "    }\n",
              "  };\n",
              "\n",
              "  cancel.remove();\n",
              "\n",
              "  // Disable the input element since further picks are not allowed.\n",
              "  inputElement.disabled = true;\n",
              "\n",
              "  if (!files) {\n",
              "    return {\n",
              "      response: {\n",
              "        action: 'complete',\n",
              "      }\n",
              "    };\n",
              "  }\n",
              "\n",
              "  for (const file of files) {\n",
              "    const li = document.createElement('li');\n",
              "    li.append(span(file.name, {fontWeight: 'bold'}));\n",
              "    li.append(span(\n",
              "        `(${file.type || 'n/a'}) - ${file.size} bytes, ` +\n",
              "        `last modified: ${\n",
              "            file.lastModifiedDate ? file.lastModifiedDate.toLocaleDateString() :\n",
              "                                    'n/a'} - `));\n",
              "    const percent = span('0% done');\n",
              "    li.appendChild(percent);\n",
              "\n",
              "    outputElement.appendChild(li);\n",
              "\n",
              "    const fileDataPromise = new Promise((resolve) => {\n",
              "      const reader = new FileReader();\n",
              "      reader.onload = (e) => {\n",
              "        resolve(e.target.result);\n",
              "      };\n",
              "      reader.readAsArrayBuffer(file);\n",
              "    });\n",
              "    // Wait for the data to be ready.\n",
              "    let fileData = yield {\n",
              "      promise: fileDataPromise,\n",
              "      response: {\n",
              "        action: 'continue',\n",
              "      }\n",
              "    };\n",
              "\n",
              "    // Use a chunked sending to avoid message size limits. See b/62115660.\n",
              "    let position = 0;\n",
              "    do {\n",
              "      const length = Math.min(fileData.byteLength - position, MAX_PAYLOAD_SIZE);\n",
              "      const chunk = new Uint8Array(fileData, position, length);\n",
              "      position += length;\n",
              "\n",
              "      const base64 = btoa(String.fromCharCode.apply(null, chunk));\n",
              "      yield {\n",
              "        response: {\n",
              "          action: 'append',\n",
              "          file: file.name,\n",
              "          data: base64,\n",
              "        },\n",
              "      };\n",
              "\n",
              "      let percentDone = fileData.byteLength === 0 ?\n",
              "          100 :\n",
              "          Math.round((position / fileData.byteLength) * 100);\n",
              "      percent.textContent = `${percentDone}% done`;\n",
              "\n",
              "    } while (position < fileData.byteLength);\n",
              "  }\n",
              "\n",
              "  // All done.\n",
              "  yield {\n",
              "    response: {\n",
              "      action: 'complete',\n",
              "    }\n",
              "  };\n",
              "}\n",
              "\n",
              "scope.google = scope.google || {};\n",
              "scope.google.colab = scope.google.colab || {};\n",
              "scope.google.colab._files = {\n",
              "  _uploadFiles,\n",
              "  _uploadFilesContinue,\n",
              "};\n",
              "})(self);\n",
              "</script> "
            ],
            "text/plain": [
              "<IPython.core.display.HTML object>"
            ]
          },
          "metadata": {},
          "output_type": "display_data"
        }
      ],
      "source": [
        "# 1. Evaluate on your held‑out test set\n",
        "loss, acc = model.evaluate(X_test, y_test, verbose=2)\n",
        "print(f\"Test loss: {loss:.4f}, Test accuracy: {acc:.4f}\")\n",
        "\n",
        "# 2. Upload a new image file in Colab\n",
        "from google.colab import files\n",
        "uploaded = files.upload()  # this opens a file picker in the browser\n",
        "\n",
        "# 3. Grab the filename of the uploaded file\n",
        "if uploaded:\n",
        "    # uploaded is a dict: {filename: file_bytes}\n",
        "    img_filename = next(iter(uploaded.keys()))\n",
        "\n",
        "    # 4. Load & preprocess the image\n",
        "    import cv2\n",
        "    import numpy as np\n",
        "    img = cv2.imread(img_filename)\n",
        "    img = cv2.resize(img, (64, 64))\n",
        "    img = img.astype('float32') / 255.0\n",
        "    img = np.expand_dims(img, axis=0)"
      ]
    },
    {
      "cell_type": "code",
      "execution_count": null,
      "metadata": {
        "id": "Ke37z0KMqJnM"
      },
      "outputs": [],
      "source": [
        "# 5. Make prediction\n",
        "    pred = model.predict(img)[0][0]\n",
        "    result = \"Parasitized (Malaria Detected)\" if pred > 0.5 else \"Uninfected (No Malaria)\"\n",
        "\n"
      ]
    },
    {
      "cell_type": "code",
      "source": [
        "  # 6. Display outcome and image\n",
        "    print(f\"Prediction: {result} (confidence: {pred:.3f})\")\n",
        "    import matplotlib.pyplot as plt\n",
        "    plt.imshow(cv2.cvtColor(cv2.imread(img_filename), cv2.COLOR_BGR2RGB))\n",
        "    plt.title(result)\n",
        "    plt.axis('off')\n",
        "    plt.show()\n",
        "else:\n",
        "    print(\"No file uploaded.\")"
      ],
      "metadata": {
        "id": "Nbrn0khN5wX1"
      },
      "execution_count": null,
      "outputs": []
    }
  ],
  "metadata": {
    "colab": {
      "provenance": [],
      "mount_file_id": "1nn6ToErTAm5ue2KdT2vppMpVpqj4wNkk",
      "authorship_tag": "ABX9TyMTS9HZkkRMnb0oXtlwlxH9",
      "include_colab_link": true
    },
    "kernelspec": {
      "display_name": "Python 3",
      "name": "python3"
    },
    "language_info": {
      "name": "python"
    }
  },
  "nbformat": 4,
  "nbformat_minor": 0
}